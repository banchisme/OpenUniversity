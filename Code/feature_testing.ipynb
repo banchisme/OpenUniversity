{
 "cells": [
  {
   "cell_type": "code",
   "execution_count": 99,
   "metadata": {},
   "outputs": [],
   "source": [
    "from data_loader import train, test\n",
    "from preprocessing import *\n",
    "from clickfeatures import regularity, procrastination\n",
    "import seaborn as sns\n",
    "from scipy import stats\n",
    "import matplotlib.pyplot as plt"
   ]
  },
  {
   "cell_type": "code",
   "execution_count": 44,
   "metadata": {},
   "outputs": [],
   "source": [
    "def build_timebased_regularity(studentVle, assessments):\n",
    "    # define helper functions\n",
    "    def extract_timestamps_and_weights(df):\n",
    "        return pd.Series({\n",
    "            'timestamps': df['date'].tolist(),\n",
    "            'weights': df['sum_click'].tolist()})\n",
    "    \n",
    "    def extract_test_dates(df, num_dates=3):\n",
    "        return pd.Series({'dates': sorted(df['date'].tolist())[:num_dates]})\n",
    "    \n",
    "    def get_time_regularity(df, using_testing_dates=0, user_defined_range=[]):\n",
    "        if user_defined_range:\n",
    "            start, end = user_defined_range\n",
    "        elif 0 <= using_testing_dates <= 2:\n",
    "            start = 0\n",
    "            end = df['dates'][using_testing_dates]\n",
    "\n",
    "        ts = df['timestamps']\n",
    "        ws = df['weights']\n",
    "        # cut off dates after the end date\n",
    "        ts = filter(lambda x: x <= end, ts)\n",
    "        ws = ws[:len(ts)]\n",
    "        r = regularity.TimeRegularity(ts, ws, end=end, unit='day')\n",
    "        return r.get_regularity()\n",
    "\n",
    "    def unwrap_time_regularity(df, metrics=['pwd', 'ws1', 'ws2', 'ws3', 'fwd']):\n",
    "        assert 'regularity' in df.columns\n",
    "        for metric in metrics:\n",
    "            df[metric] = df['regularity'].apply(\n",
    "                lambda x: x[metric] if metric in x else np.nan)\n",
    "        return df\n",
    "\n",
    "    # make a copy\n",
    "    studentVle = studentVle.copy()\n",
    "    assessments = assessments.copy()\n",
    "    \n",
    "    #######################\n",
    "    # preprocess studentVle\n",
    "    #######################\n",
    "    studentVle = studentVle.query('date >= 0')\n",
    "\n",
    "    # aggregate daily clicks\n",
    "    identifiers = ['code_module', 'code_presentation', 'id_student', 'date']\n",
    "    studentVle = studentVle.groupby(identifiers)['sum_click'].agg('sum').reset_index()\n",
    "    studentVle.sort_values(identifiers, inplace=True)\n",
    "    \n",
    "    # apply function\n",
    "    identifiers = ['code_module', 'code_presentation', 'id_student']\n",
    "    studentVle = studentVle.groupby(identifiers).apply(extract_timestamps_and_weights)\n",
    "    studentVle.reset_index(inplace=True)\n",
    "    \n",
    "    #######################\n",
    "    # preprocess assessments\n",
    "    #######################\n",
    "    identifiers = ['code_module', 'code_presentation']\n",
    "    assessments = assessments.groupby(identifiers).apply(extract_test_dates)\n",
    "    assessments.reset_index(inplace=True)\n",
    "    \n",
    "    # merge\n",
    "    identifiers = ['code_module', 'code_presentation']\n",
    "    studentVle = studentVle.merge(assessments, on=identifiers, how='left')\n",
    "    \n",
    "    # build features\n",
    "    studentVle['regularity'] = studentVle.apply(get_time_regularity, axis=1)\n",
    "    studentVle = unwrap_time_regularity(studentVle)\n",
    "    \n",
    "    # drop unuseful columns\n",
    "    studentVle.drop(['regularity', 'timestamps', 'weights', 'dates'], axis=1, inplace=True)\n",
    "\n",
    "    return studentVle"
   ]
  },
  {
   "cell_type": "code",
   "execution_count": 15,
   "metadata": {},
   "outputs": [],
   "source": [
    "def build_activitybased_regularity(studentVle, vle, drop_columns=True):\n",
    "\n",
    "    valid_activies = [\n",
    "        'forumng', 'subpage', 'oucontent', 'homepage', 'quiz', \n",
    "        'resource', 'url', 'ouwiki', 'externalquiz', 'page',\n",
    "        'oucollaborate', 'questionnaire', 'ouelluminate',\n",
    "        'glossary', 'dualpane', 'dataplus', 'folder',\n",
    "        'sharedsubpage', 'repeatactivity']\n",
    "    \n",
    "    def extract_activities(df):\n",
    "        return dict(zip(df['activity_type'], df['sum_click']))\n",
    "\n",
    "    def agg_activities(df, valid_activies=valid_activies):\n",
    "        df = df.copy()\n",
    "        df.sort_values('date', inplace=True)\n",
    "        res = []\n",
    "        for index in df.index:\n",
    "            row = []\n",
    "            for activity in valid_activies:\n",
    "                try:\n",
    "                    row.append(df.at[index, 'activities'][activity])\n",
    "                except KeyError:\n",
    "                    row.append(0)\n",
    "            res.append(row)\n",
    "        return pd.Series({'activities': res})\n",
    "\n",
    "    def get_activity_regularity(activities, activity_names=valid_activies):\n",
    "        r = regularity.ActivityRegularity(activity_names, activities)\n",
    "        return r.get_regularity()\n",
    "    \n",
    "    def unwrap_activity_regularity(df, metrics=['concentration', 'consistency']):\n",
    "        assert 'regularity' in df.columns\n",
    "        for metric in metrics:\n",
    "            df[metric] = df['regularity'].apply(\n",
    "                lambda x: x[metric] if metric in x else np.nan)\n",
    "        return df\n",
    "\n",
    "    # make a copy\n",
    "    vle = vle.copy()\n",
    "    studentVle = studentVle.copy()\n",
    "    \n",
    "    #######################\n",
    "    # preprocess\n",
    "    #######################\n",
    "    identifiers = ['code_module', 'code_presentation', 'id_site']\n",
    "    studentVle = studentVle.query('date >= 0')\n",
    "    studentVle = studentVle.merge(vle, on=identifiers, how='inner')\n",
    "    \n",
    "    # aggregate clicks\n",
    "    identifiers = ['code_module', 'code_presentation', 'id_student', 'date', 'activity_type']\n",
    "    studentVle = studentVle.groupby(identifiers)['sum_click'].agg('sum').reset_index()\n",
    "    \n",
    "    # build features\n",
    "    identifiers = ['code_module', 'code_presentation', 'id_student', 'date']\n",
    "    studentVle = studentVle.groupby(identifiers).apply(extract_activities).reset_index()\n",
    "    studentVle.columns = identifiers + ['activities']\n",
    "    \n",
    "    identifiers = ['code_module', 'code_presentation', 'id_student']\n",
    "    studentVle = studentVle.groupby(identifiers).apply(agg_activities).reset_index()\n",
    "    \n",
    "    studentVle['regularity'] = studentVle['activities'].apply(get_activity_regularity)\n",
    "    studentVle = unwrap_activity_regularity(studentVle)\n",
    "    \n",
    "    # drop useless columns\n",
    "    if drop_columns:\n",
    "        studentVle.drop(['regularity', 'activities'], axis=1, inplace=True)\n",
    "    \n",
    "    return studentVle"
   ]
  },
  {
   "cell_type": "code",
   "execution_count": 104,
   "metadata": {},
   "outputs": [],
   "source": [
    "def build_procrastination(studentVle, assessments):\n",
    "    # define helper functions\n",
    "    def extract_timestamps_and_weights(df):\n",
    "        return pd.Series({\n",
    "            'timestamps': df['date'].tolist(),\n",
    "            'weights': df['sum_click'].tolist()})\n",
    "    \n",
    "    def extract_test_dates(df, num_dates=3):\n",
    "        return pd.Series({'dates': sorted(df['date'].tolist())[:num_dates]})\n",
    "    \n",
    "    def get_procastination(df, fun, using_testing_dates=0, user_defined_range=[]):\n",
    "        if user_defined_range:\n",
    "            start, end = user_defined_range\n",
    "        elif 0 <= using_testing_dates <= 2:\n",
    "            start = 0\n",
    "            end = df['dates'][using_testing_dates]\n",
    "\n",
    "        ts = df['timestamps']\n",
    "        ws = df['weights']\n",
    "        # cut off dates after the end date\n",
    "        ts = filter(lambda x: x <= end, ts)\n",
    "        ws = ws[:len(ts)]\n",
    "        p = procrastination.WeightedMean(fun, ts, ws, end=end, unit='day')\n",
    "        return p.get_procrastination()\n",
    "\n",
    "    # make a copy\n",
    "    studentVle = studentVle.copy()\n",
    "    assessments = assessments.copy()\n",
    "    \n",
    "    #######################\n",
    "    # preprocess studentVle\n",
    "    #######################\n",
    "    studentVle = studentVle.query('date >= 0')\n",
    "\n",
    "    # aggregate daily clicks\n",
    "    identifiers = ['code_module', 'code_presentation', 'id_student', 'date']\n",
    "    studentVle = studentVle.groupby(identifiers)['sum_click'].agg('sum').reset_index()\n",
    "    studentVle.sort_values(identifiers, inplace=True)\n",
    "    \n",
    "    # apply function\n",
    "    identifiers = ['code_module', 'code_presentation', 'id_student']\n",
    "    studentVle = studentVle.groupby(identifiers).apply(extract_timestamps_and_weights)\n",
    "    studentVle.reset_index(inplace=True)\n",
    "    \n",
    "    #######################\n",
    "    # preprocess assessments\n",
    "    #######################\n",
    "    identifiers = ['code_module', 'code_presentation']\n",
    "    assessments = assessments.groupby(identifiers).apply(extract_test_dates)\n",
    "    assessments.reset_index(inplace=True)\n",
    "    \n",
    "    # merge\n",
    "    identifiers = ['code_module', 'code_presentation']\n",
    "    studentVle = studentVle.merge(assessments, on=identifiers, how='left')\n",
    "    \n",
    "    # build features\n",
    "    feature_names = ['proc1', 'proc2', 'proc3']\n",
    "    functions = [lambda x: x, \n",
    "                 lambda x: 1. / (1 - x), \n",
    "                 lambda x: math.log(1 + x, 2)]\n",
    "    for feature_name, f in zip(feature_names, functions):\n",
    "        studentVle[feature_name] = studentVle.apply(get_procastination, axis=1, fun=f)\n",
    "    \n",
    "    # drop unuseful columns\n",
    "    studentVle.drop(['timestamps', 'weights', 'dates'], axis=1, inplace=True)\n",
    "\n",
    "    return studentVle    "
   ]
  },
  {
   "cell_type": "code",
   "execution_count": 105,
   "metadata": {},
   "outputs": [],
   "source": [
    "proc = build_procrastination(train.studentVle, train.assessments)"
   ]
  },
  {
   "cell_type": "code",
   "execution_count": 61,
   "metadata": {},
   "outputs": [],
   "source": [
    "time_df = build_timebased_regularity(train.studentVle, train.assessments)"
   ]
  },
  {
   "cell_type": "code",
   "execution_count": null,
   "metadata": {},
   "outputs": [],
   "source": [
    "act_df = build_activitybased_regularity(train.studentVle, train.vle)"
   ]
  },
  {
   "cell_type": "code",
   "execution_count": 107,
   "metadata": {},
   "outputs": [],
   "source": [
    "identifiers = ['code_module', 'code_presentation', 'id_student']\n",
    "df = time_df.merge(train.studentInfo[identifiers + ['final_result']], \n",
    "                        on=identifiers, how='inner')\n",
    "df = df.merge(act_df, on=identifiers, how='inner')\n",
    "df = df.merge(proc, on=identifiers, how='inner')\n",
    "df['group'] = df['final_result'].map({\n",
    "    'Pass': 'Pass', \n",
    "    'Withdrawn': 'Withdrawn',\n",
    "    'Fail': 'Fail',\n",
    "    'Distinction': 'Pass'})"
   ]
  },
  {
   "cell_type": "code",
   "execution_count": 87,
   "metadata": {},
   "outputs": [
    {
     "data": {
      "text/plain": [
       "Text(0.5,1,u'Consistency')"
      ]
     },
     "execution_count": 87,
     "metadata": {},
     "output_type": "execute_result"
    },
    {
     "data": {
      "image/png": "[encoded data removed]",
      "text/plain": [
       "<matplotlib.figure.Figure at 0x13c2faa50>"
      ]
     },
     "metadata": {},
     "output_type": "display_data"
    }
   ],
   "source": [
    "plt.ylim(0.65, 1.05)\n",
    "ax = sns.boxplot(x='group', y='consistency', \n",
    "            data=df, order=['Withdrawn', 'Fail', 'Pass'])\n",
    "ax.set_xlabel('')\n",
    "ax.set_ylabel('')\n",
    "ax.set_title('Consistency')"
   ]
  },
  {
   "cell_type": "code",
   "execution_count": 97,
   "metadata": {},
   "outputs": [
    {
     "data": {
      "text/plain": [
       "Text(0.5,1,u'Concentration')"
      ]
     },
     "execution_count": 97,
     "metadata": {},
     "output_type": "execute_result"
    },
    {
     "data": {
      "image/png": "[encoded data removed]",
      "text/plain": [
       "<matplotlib.figure.Figure at 0x1351e1090>"
      ]
     },
     "metadata": {},
     "output_type": "display_data"
    }
   ],
   "source": [
    "plt.ylim(0.3, .8)\n",
    "ax = sns.boxplot(x='group', y='concentration', \n",
    "            data=df, order=['Withdrawn', 'Fail', 'Pass'])\n",
    "ax.set_xlabel('')\n",
    "ax.set_ylabel('')\n",
    "ax.set_title('Concentration')"
   ]
  },
  {
   "cell_type": "code",
   "execution_count": 113,
   "metadata": {},
   "outputs": [
    {
     "data": {
      "text/plain": [
       "Text(0.5,1,u'Procastination')"
      ]
     },
     "execution_count": 113,
     "metadata": {},
     "output_type": "execute_result"
    },
    {
     "data": {
      "image/png": "[encoded data removed]",
      "text/plain": [
       "<matplotlib.figure.Figure at 0x1365578d0>"
      ]
     },
     "metadata": {},
     "output_type": "display_data"
    }
   ],
   "source": [
    "#plt.ylim(0.3, .8)\n",
    "plt.ylim(0, 10)\n",
    "ax = sns.boxplot(x='group', y='proc2', \n",
    "            data=df, order=['Withdrawn', 'Fail', 'Pass'])\n",
    "ax.set_xlabel('')\n",
    "ax.set_ylabel('')\n",
    "ax.set_title('Procastination')"
   ]
  },
  {
   "cell_type": "code",
   "execution_count": 115,
   "metadata": {},
   "outputs": [
    {
     "data": {
      "text/plain": [
       "Text(0.5,1,u'Procastination')"
      ]
     },
     "execution_count": 115,
     "metadata": {},
     "output_type": "execute_result"
    },
    {
     "data": {
      "image/png": "[encoded data removed]",
      "text/plain": [
       "<matplotlib.figure.Figure at 0x1366a3950>"
      ]
     },
     "metadata": {},
     "output_type": "display_data"
    }
   ],
   "source": [
    "ax = sns.boxplot(x='group', y='proc3', \n",
    "            data=df, order=['Withdrawn', 'Fail', 'Pass'])\n",
    "ax.set_xlabel('')\n",
    "ax.set_ylabel('')\n",
    "ax.set_title('Procastination')"
   ]
  },
  {
   "cell_type": "code",
   "execution_count": 110,
   "metadata": {},
   "outputs": [
    {
     "name": "stdout",
     "output_type": "stream",
     "text": [
      "one way anova for pwd is, with statistics = 96.6093696427 and p-value = 2.01315617518e-42\n",
      "one way anova for ws1 is, with statistics = 321.829968842 and p-value = 1.06387778057e-137\n",
      "one way anova for ws2 is, with statistics = 128.551690065 and p-value = 4.56071401473e-56\n",
      "one way anova for ws3 is, with statistics = 107.580939552 and p-value = 3.94666754455e-47\n",
      "one way anova for fwd is, with statistics = 42.5747936552 and p-value = 3.63150026711e-19\n",
      "one way anova for concentration is, with statistics = 56.0325233186 and p-value = 5.57059244836e-25\n",
      "one way anova for consistency is, with statistics = 370.44143799 and p-value = 3.66105487453e-158\n",
      "one way anova for proc1 is, with statistics = 40.9522903573 and p-value = 1.81011770045e-18\n",
      "one way anova for proc2 is, with statistics = 104.733584566 and p-value = 6.23757334022e-46\n",
      "one way anova for proc3 is, with statistics = 30.2507243985 and p-value = 7.68764253596e-14\n"
     ]
    }
   ],
   "source": [
    "metrics = ['pwd', 'ws1', 'ws2', 'ws3', 'fwd', 'concentration', 'consistency', 'proc1', 'proc2', 'proc3']\n",
    "group = ['Withdrawn', 'Fail', 'Pass']\n",
    "\n",
    "for metric in metrics:\n",
    "    arrs = []\n",
    "    for g in group:\n",
    "        mask = (df['group'] == g) & (pd.notnull(df[metric]))\n",
    "        arrs.append(df[mask][metric].tolist())\n",
    "    statistic, p = stats.f_oneway(*arrs)\n",
    "    print('one way anova for {} is, with statistics = {} and p-value = {}'.\n",
    "         format(metric, statistic, p))"
   ]
  }
 ],
 "metadata": {
  "kernelspec": {
   "display_name": "Python 2",
   "language": "python",
   "name": "python2"
  },
  "language_info": {
   "codemirror_mode": {
    "name": "ipython",
    "version": 2
   },
   "file_extension": ".py",
   "mimetype": "text/x-python",
   "name": "python",
   "nbconvert_exporter": "python",
   "pygments_lexer": "ipython2",
   "version": "2.7.14"
  }
 },
 "nbformat": 4,
 "nbformat_minor": 2
}
