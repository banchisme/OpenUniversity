{
 "cells": [
  {
   "cell_type": "markdown",
   "metadata": {},
   "source": [
    "# the goal is to predict individual's fail rate before their first assessment"
   ]
  },
  {
   "cell_type": "code",
   "execution_count": 1,
   "metadata": {},
   "outputs": [],
   "source": [
    "import pandas as pd\n",
    "import numpy as np\n",
    "import seaborn as sns\n",
    "import matplotlib.pyplot as plt\n",
    "from sklearn.ensemble import RandomForestClassifier, GradientBoostingClassifier\n",
    "from sklearn.decomposition import PCA\n",
    "from sklearn.preprocessing import Imputer, OneHotEncoder, LabelEncoder, StandardScaler\n",
    "from sklearn.pipeline import Pipeline, FeatureUnion\n",
    "from sklearn.model_selection import cross_val_score, KFold, GridSearchCV\n",
    "from sklearn.feature_selection import SelectKBest\n",
    "from sklearn.metrics import roc_auc_score, roc_curve, f1_score, make_scorer, accuracy_score, precision_score, recall_score\n",
    "from sklearn.svm import SVC\n",
    "from scipy import stats\n",
    "import math\n",
    "from tqdm import tqdm_notebook\n",
    "import re\n",
    "from helpers import preprocessing, TemporalSegments, my_pipeline, time_invariant_features, effort_features, temporal_features, temporal_summary_features\n",
    "from helpers import temporal_feature_name\n",
    "from sklearn.base import BaseEstimator, TransformerMixin\n",
    "%matplotlib inline"
   ]
  },
  {
   "cell_type": "code",
   "execution_count": 2,
   "metadata": {},
   "outputs": [],
   "source": [
    "# load data\n",
    "assessments = pd.read_csv('../Data/Raw/assessments.csv') # pk = code_module, code_presentation, id_assessment\n",
    "courses = pd.read_csv('../Data/Raw/courses.csv') # pk = code_module, code_presentation\n",
    "studentAssessment = pd.read_csv('../Data/Raw/studentAssessment.csv') # pk = id_assessment(this is unique across course sessions), id_student\n",
    "studentInfo = pd.read_csv('../Data/Raw/studentInfo.csv') # pk = code_module, code_presentation, id_student\n",
    "studentRegistration = pd.read_csv('../Data/Raw/studentRegistration.csv') #pk = code_module, code_presentation, id_student\n",
    "vle = pd.read_csv('../Data/Raw/vle.csv') # pk = id_site\n",
    "studentVle = pd.read_csv('../Data/Raw/studentVle.csv') # pk = code_module, code_presentation, id_student, id_site"
   ]
  },
  {
   "cell_type": "code",
   "execution_count": 5,
   "metadata": {
    "collapsed": true
   },
   "outputs": [],
   "source": [
    "# find out the first assessment date\n",
    "first_assessement = assessments.groupby(['code_module', 'code_presentation'])['date'].agg('min').reset_index()\n",
    "first_assessement.columns = ['code_module', 'code_presentation', 'first_assessment_date']"
   ]
  },
  {
   "cell_type": "code",
   "execution_count": 6,
   "metadata": {
    "collapsed": true
   },
   "outputs": [],
   "source": [
    "studentVle = studentVle.merge(first_assessement, on=['code_module', 'code_presentation'], how='left')\n",
    "studentVle['before_first_assessment'] = studentVle['date'] < studentVle['first_assessment_date']\n",
    "studentVle = studentVle[studentVle['before_first_assessment']]\n",
    "studentVle.drop(['first_assessment_date', 'before_first_assessment'], axis=1, inplace=True)"
   ]
  },
  {
   "cell_type": "code",
   "execution_count": 7,
   "metadata": {
    "collapsed": true
   },
   "outputs": [],
   "source": [
    "class NameSpace(object):\n",
    "    pass\n",
    "\n",
    "total = NameSpace()\n",
    "datasets = [assessments, courses, studentAssessment, studentInfo, \n",
    "            studentRegistration, vle, studentVle]\n",
    "data_names = ['assessments', 'courses', 'studentAssessment', 'studentInfo',\n",
    "             'studentRegistration', 'vle', 'studentVle']\n",
    "for pt in range(len(datasets)):\n",
    "    name = data_names[pt]\n",
    "    df = datasets[pt]\n",
    "    setattr(total, name, df)"
   ]
  },
  {
   "cell_type": "code",
   "execution_count": 8,
   "metadata": {},
   "outputs": [
    {
     "name": "stdout",
     "output_type": "stream",
     "text": [
      "the result of merging for studentVle and vle is \n",
      " both          2460994\n",
      "right_only       2321\n",
      "left_only           0\n",
      "Name: _merge, dtype: int64\n",
      "the result of merging for studentInfo+assessments and engagement is \n",
      " both          43291\n",
      "left_only       753\n",
      "right_only        0\n",
      "Name: _merge, dtype: int64\n"
     ]
    }
   ],
   "source": [
    "total_data = preprocessing.fit_transform(total)"
   ]
  },
  {
   "cell_type": "code",
   "execution_count": 9,
   "metadata": {
    "collapsed": true
   },
   "outputs": [],
   "source": [
    "# exclude temporal_segments > 1\n",
    "# temporal_segment = 1 is the first 30 days from course start\n",
    "total_data = total_data[total_data['temperal_seg'] <=1]"
   ]
  },
  {
   "cell_type": "code",
   "execution_count": 10,
   "metadata": {
    "collapsed": true
   },
   "outputs": [],
   "source": [
    "# include extra registration features\n",
    "registration = total.studentRegistration.drop('date_unregistration', axis=1)\n",
    "total_data = total_data.merge(registration, \n",
    "                              on=['code_module', 'code_presentation', 'id_student'], \n",
    "                              how='left', indicator=True)"
   ]
  },
  {
   "cell_type": "code",
   "execution_count": 11,
   "metadata": {},
   "outputs": [
    {
     "name": "stdout",
     "output_type": "stream",
     "text": [
      "both          39708\n",
      "right_only        0\n",
      "left_only         0\n",
      "Name: _merge, dtype: int64\n"
     ]
    }
   ],
   "source": [
    "# nicely merged!\n",
    "print(total_data['_merge'].value_counts())\n",
    "total_data.drop('_merge', inplace=True, axis=1)"
   ]
  },
  {
   "cell_type": "code",
   "execution_count": 12,
   "metadata": {
    "collapsed": true
   },
   "outputs": [],
   "source": [
    "training_presentation = ['2013B', '2013J', '2014B']\n",
    "testing_presentation = ['2014J']"
   ]
  },
  {
   "cell_type": "code",
   "execution_count": 13,
   "metadata": {
    "collapsed": true
   },
   "outputs": [],
   "source": [
    "train = total_data[total_data['code_presentation'].isin(training_presentation)]\n",
    "test = total_data[total_data['code_presentation'].isin(testing_presentation)]"
   ]
  },
  {
   "cell_type": "code",
   "execution_count": 14,
   "metadata": {
    "collapsed": true
   },
   "outputs": [],
   "source": [
    "X_train, y_train = TemporalSegments(train).get_temporal_segment(1)\n",
    "X_test, y_test = TemporalSegments(test).get_temporal_segment(1)"
   ]
  },
  {
   "cell_type": "code",
   "execution_count": 15,
   "metadata": {
    "collapsed": true
   },
   "outputs": [],
   "source": [
    "class myPCA(TransformerMixin):\n",
    "    def fit(self, X, y=None):\n",
    "        effort_features = temporal_feature_name('effort_features', 1)\n",
    "        resource_features = temporal_feature_name('resource_features', 1)\n",
    "        temporal_features = temporal_feature_name('temporal_features', 1)\n",
    "        temporal_summary_features = temporal_feature_name('temporal_summary_features', 1)\n",
    "        X_resource = X[resource_features]\n",
    "        X_temporal = X[temporal_features]\n",
    "        \n",
    "        resource_pca_num = 4\n",
    "        temporal_pca_num = 20\n",
    "        self.resource_pca = PCA(resource_pca_num)\n",
    "        self.temporal_pca = PCA(temporal_pca_num)\n",
    "        self.resource_pca.fit(X_resource)\n",
    "        self.temporal_pca.fit(X_temporal)\n",
    "        self.resouce_pca_cols = ['rescourse_pca' + str(i) for i in range(1, resource_pca_num + 1)]\n",
    "        self.temporal_pca_cols = ['click_date_pca' + str(i) for i in range(1, temporal_pca_num + 1)]\n",
    "        self.feature_names = time_invariant_features + effort_features + temporal_summary_features + \\\n",
    "            self.resouce_pca_cols + self.temporal_pca_cols\n",
    "        return self\n",
    "    \n",
    "    def transform(self, X, y=None):\n",
    "        resource_features = temporal_feature_name('resource_features', 1)\n",
    "        temporal_features = temporal_feature_name('temporal_features', 1)\n",
    "        X_resource = X[resource_features]\n",
    "        X_temporal = X[temporal_features]\n",
    "        \n",
    "        X = X.drop(resource_features + temporal_features, axis=1)\n",
    "        resource_pca_df = pd.DataFrame(self.resource_pca.transform(X_resource), index=X.index, columns=self.resouce_pca_cols)\n",
    "        temporal_pca_df = pd.DataFrame(self.temporal_pca.transform(X_temporal), index=X.index, columns=self.temporal_pca_cols)\n",
    "        \n",
    "        X = pd.concat([X, resource_pca_df, temporal_pca_df], axis=1)\n",
    "        return X\n",
    "#     def fit_transform(self, X, y=None):\n",
    "#         pass"
   ]
  },
  {
   "cell_type": "code",
   "execution_count": 16,
   "metadata": {
    "collapsed": true
   },
   "outputs": [],
   "source": [
    "pipe = Pipeline([('pca', myPCA()), ('imp', Imputer())])"
   ]
  },
  {
   "cell_type": "markdown",
   "metadata": {},
   "source": [
    "# GridSearch for three classifiers: \n",
    "1. RandomForest\n",
    "2. Gradient Boosted Trees\n",
    "3. SVM"
   ]
  },
  {
   "cell_type": "code",
   "execution_count": 17,
   "metadata": {
    "collapsed": true
   },
   "outputs": [],
   "source": [
    "pipe.fit(X_train, y_train)\n",
    "X_train_clean = pipe.transform(X_train)\n",
    "X_test_clean = pipe.transform(X_test)"
   ]
  },
  {
   "cell_type": "code",
   "execution_count": 18,
   "metadata": {
    "collapsed": true
   },
   "outputs": [],
   "source": [
    "f1_scorer = make_scorer(f1_score)\n",
    "cv = KFold(5) # concerning the fitting speed, ideally this should be 20, at least"
   ]
  },
  {
   "cell_type": "code",
   "execution_count": 19,
   "metadata": {
    "collapsed": true
   },
   "outputs": [],
   "source": [
    "# random forest\n",
    "forest = RandomForestClassifier(min_samples_split=10, min_samples_leaf=10, class_weight='balanced')\n",
    "forest_parameters = {'n_estimators': (100, 200), 'max_depth': (10, 30)}\n",
    "forest_clf = GridSearchCV(forest, forest_parameters, f1_scorer, cv=cv)"
   ]
  },
  {
   "cell_type": "code",
   "execution_count": 20,
   "metadata": {
    "collapsed": true
   },
   "outputs": [],
   "source": [
    "boosted = GradientBoostingClassifier(min_samples_split=10, min_samples_leaf=10)\n",
    "boosted_parameters = {'n_estimators': (100, 200), 'max_depth': (10, 30)}\n",
    "boosted_clf = GridSearchCV(boosted, boosted_parameters, f1_scorer, cv=cv)"
   ]
  },
  {
   "cell_type": "code",
   "execution_count": 21,
   "metadata": {
    "collapsed": true
   },
   "outputs": [],
   "source": [
    "svm = SVC(class_weight='balanced', kernel='poly')\n",
    "svm_parameters = {'C': [1, 10], 'degree': (3, 5)}\n",
    "svm_clf = GridSearchCV(svm, svm_parameters, f1_scorer, cv=cv)"
   ]
  },
  {
   "cell_type": "code",
   "execution_count": 22,
   "metadata": {},
   "outputs": [
    {
     "data": {
      "application/vnd.jupyter.widget-view+json": {
       "model_id": "8c8d594896c34a71ae58455d381bd243",
       "version_major": 2,
       "version_minor": 0
      },
      "text/plain": [
       "A Jupyter Widget"
      ]
     },
     "metadata": {},
     "output_type": "display_data"
    },
    {
     "name": "stdout",
     "output_type": "stream",
     "text": [
      "\n"
     ]
    }
   ],
   "source": [
    "#[forest_clf, boosted_clf, svm_clf]\n",
    "for clf in tqdm_notebook([forest_clf, boosted_clf], desc='fitting classifiers'):\n",
    "    clf.fit(X_train_clean, y_train)"
   ]
  },
  {
   "cell_type": "code",
   "execution_count": 24,
   "metadata": {},
   "outputs": [],
   "source": [
    "best_score = 0\n",
    "best_estimator = None\n",
    "for clf in [forest_clf, boosted_clf]:\n",
    "    if clf.best_score_ > best_score:\n",
    "        best_score = clf.best_score_\n",
    "        best_estimator = clf.best_estimator_\n",
    "\n",
    "best_forest = forest_clf.best_estimator_\n",
    "best_boost = boosted_clf.best_estimator_"
   ]
  },
  {
   "cell_type": "markdown",
   "metadata": {},
   "source": [
    "# Check the Important Features in RandomForest and BoostedTrees"
   ]
  },
  {
   "cell_type": "code",
   "execution_count": 32,
   "metadata": {},
   "outputs": [
    {
     "data": {
      "text/plain": [
       "GradientBoostingClassifier(criterion='friedman_mse', init=None,\n",
       "              learning_rate=0.1, loss='deviance', max_depth=10,\n",
       "              max_features=None, max_leaf_nodes=None,\n",
       "              min_impurity_decrease=0.0, min_impurity_split=None,\n",
       "              min_samples_leaf=10, min_samples_split=10,\n",
       "              min_weight_fraction_leaf=0.0, n_estimators=100,\n",
       "              presort='auto', random_state=None, subsample=1.0, verbose=0,\n",
       "              warm_start=False)"
      ]
     },
     "execution_count": 32,
     "metadata": {},
     "output_type": "execute_result"
    }
   ],
   "source": [
    "best_boost.fit(X_train_clean, y_train)"
   ]
  },
  {
   "cell_type": "code",
   "execution_count": 25,
   "metadata": {},
   "outputs": [
    {
     "data": {
      "text/plain": [
       "RandomForestClassifier(bootstrap=True, class_weight='balanced',\n",
       "            criterion='gini', max_depth=10, max_features='auto',\n",
       "            max_leaf_nodes=None, min_impurity_decrease=0.0,\n",
       "            min_impurity_split=None, min_samples_leaf=10,\n",
       "            min_samples_split=10, min_weight_fraction_leaf=0.0,\n",
       "            n_estimators=200, n_jobs=1, oob_score=False, random_state=None,\n",
       "            verbose=0, warm_start=False)"
      ]
     },
     "execution_count": 25,
     "metadata": {},
     "output_type": "execute_result"
    }
   ],
   "source": [
    "best_forest.fit(X_train_clean, y_train)"
   ]
  },
  {
   "cell_type": "code",
   "execution_count": 34,
   "metadata": {
    "collapsed": true
   },
   "outputs": [],
   "source": [
    "def feature_importance(scores):\n",
    "    effort_features = temporal_feature_name('effort_features', 1)\n",
    "    resource_features = temporal_feature_name('resource_features', 1)\n",
    "    temporal_features = temporal_feature_name('temporal_features', 1)\n",
    "    temporal_summary_features = temporal_feature_name('temporal_summary_features', 1)\n",
    "    resource_pca_num = 4\n",
    "    temporal_pca_num = 20\n",
    "    resouce_pca_cols = ['rescourse_pca' + str(i) for i in range(1, resource_pca_num + 1)]\n",
    "    temporal_pca_cols = ['click_date_pca' + str(i) for i in range(1, temporal_pca_num + 1)]\n",
    "    features = time_invariant_features + effort_features + temporal_summary_features + \\\n",
    "                resouce_pca_cols + temporal_pca_cols\n",
    "        \n",
    "    return pd.DataFrame({'feature': features, 'importance': scores}\n",
    "                       ).sort_values('importance', ascending=False)"
   ]
  },
  {
   "cell_type": "code",
   "execution_count": 35,
   "metadata": {},
   "outputs": [],
   "source": [
    "best_forest_top_features = feature_importance(best_forest.feature_importances_).head(10)\n",
    "best_boosted_top_features = feature_importance(best_boost.feature_importances_).head(10)"
   ]
  },
  {
   "cell_type": "code",
   "execution_count": 36,
   "metadata": {},
   "outputs": [
    {
     "name": "stdout",
     "output_type": "stream",
     "text": [
      "the top features for the random forest is :\n",
      "\n",
      "               feature  importance\n",
      "28             t1_peak    0.088633\n",
      "27        t1_sum_click    0.067428\n",
      "26   date_registration    0.067098\n",
      "31    t1_longest_zeros    0.059211\n",
      "29        t1_variation    0.042812\n",
      "19  Lower Than A Level    0.039765\n",
      "24            imd_band    0.036234\n",
      "34      rescourse_pca2    0.031758\n",
      "36      rescourse_pca4    0.026837\n",
      "33      rescourse_pca1    0.026741\n",
      "the top features for the gradient boosted trees is :\n",
      "\n",
      "              feature  importance\n",
      "36     rescourse_pca4    0.042919\n",
      "33     rescourse_pca1    0.040346\n",
      "28            t1_peak    0.038741\n",
      "26  date_registration    0.038726\n",
      "32    t1_longest_ones    0.037712\n",
      "55   click_date_pca19    0.035927\n",
      "35     rescourse_pca3    0.033646\n",
      "46   click_date_pca10    0.033023\n",
      "34     rescourse_pca2    0.032908\n",
      "39    click_date_pca3    0.032831\n"
     ]
    }
   ],
   "source": [
    "print('the top features for the random forest is :\\n')\n",
    "print(best_forest_top_features)\n",
    "print('the top features for the gradient boosted trees is :\\n')\n",
    "print(best_boosted_top_features)"
   ]
  },
  {
   "cell_type": "markdown",
   "metadata": {},
   "source": [
    "# Evaluate the performance of model on testing data"
   ]
  },
  {
   "cell_type": "code",
   "execution_count": 37,
   "metadata": {
    "collapsed": true
   },
   "outputs": [],
   "source": [
    "# precision, recall, f1, auc\n",
    "predict = best_estimator.predict(X_test_clean)\n",
    "precision = precision_score(y_test, predict)\n",
    "recall = recall_score(y_test, predict)\n",
    "f1 = f1_score(y_test, predict)\n",
    "predict_ba = best_estimator.predict_proba(X_test_clean)[:, 1]\n",
    "auc = roc_auc_score(y_test, predict_ba)"
   ]
  },
  {
   "cell_type": "code",
   "execution_count": 38,
   "metadata": {},
   "outputs": [
    {
     "name": "stdout",
     "output_type": "stream",
     "text": [
      "the precision of best model is 0.3901827302042279\n",
      "the recall of best model is 0.6090604026845637\n",
      "the f1 score of the best model is 0.4756497051758026\n",
      "the area under curve of the best model is 0.7052288431076329\n"
     ]
    }
   ],
   "source": [
    "print('the precision of best model is {}'.format(precision))\n",
    "print('the recall of best model is {}'.format(recall))\n",
    "print('the f1 score of the best model is {}'.format(f1))\n",
    "print('the area under curve of the best model is {}'.format(auc))"
   ]
  },
  {
   "cell_type": "code",
   "execution_count": 39,
   "metadata": {},
   "outputs": [],
   "source": [
    "# roc \n",
    "fpr, tpr, _ = roc_curve(y_test, predict_ba)"
   ]
  },
  {
   "cell_type": "code",
   "execution_count": 41,
   "metadata": {},
   "outputs": [
    {
     "data": {
      "text/plain": [
       "<matplotlib.legend.Legend at 0x28184f6f898>"
      ]
     },
     "execution_count": 41,
     "metadata": {},
     "output_type": "execute_result"
    },
    {
     "data": {
      "image/png": "[encoded data removed]",
      "text/plain": [
       "<matplotlib.figure.Figure at 0x281845f3588>"
      ]
     },
     "metadata": {},
     "output_type": "display_data"
    }
   ],
   "source": [
    "fig = plt.figure(figsize=(8, 8))\n",
    "plt.plot(fpr, tpr, color='darkorange', label='ROC curve (area = {})'.format(auc))\n",
    "plt.plot([0, 1], [0, 1], color='navy', linestyle='--')\n",
    "plt.xlim([0.0, 1.0])\n",
    "plt.ylim([0.0, 1.05])\n",
    "plt.xlabel('False Positive Rate')\n",
    "plt.ylabel('True Positive Rate')\n",
    "plt.title('ROC for the best model')\n",
    "plt.legend(loc=\"lower right\")"
   ]
  },
  {
   "cell_type": "markdown",
   "metadata": {
    "collapsed": true
   },
   "source": [
    "# Descide the best threshold"
   ]
  },
  {
   "cell_type": "code",
   "execution_count": 48,
   "metadata": {
    "collapsed": true
   },
   "outputs": [],
   "source": [
    "def best_threshold(y_true, proba, scoring='f1_score', step = 0.01):\n",
    "    if scoring == 'f1_score':\n",
    "        scoring_func = f1_score\n",
    "    else:\n",
    "        raise NotImplementedError\n",
    "    \n",
    "    # exclusively go through all\n",
    "    thresholds = []\n",
    "    scores = []\n",
    "    threshold = 0\n",
    "    \n",
    "    while threshold <= 0.99:\n",
    "        y_predict = (proba > threshold)\n",
    "        curr_score = scoring_func(y_true, y_predict)\n",
    "        \n",
    "        thresholds.append(threshold)\n",
    "        scores.append(curr_score)\n",
    "        threshold += step\n",
    "    return thresholds, scores"
   ]
  },
  {
   "cell_type": "code",
   "execution_count": 49,
   "metadata": {},
   "outputs": [
    {
     "name": "stderr",
     "output_type": "stream",
     "text": [
      "C:\\ProgramData\\Anaconda3\\lib\\site-packages\\sklearn\\metrics\\classification.py:1135: UndefinedMetricWarning: F-score is ill-defined and being set to 0.0 due to no predicted samples.\n",
      "  'precision', 'predicted', average, warn_for)\n"
     ]
    }
   ],
   "source": [
    "thresholds, scores = best_threshold(y_test, predict_ba)\n",
    "best_score = max(scores)\n",
    "index = scores.index(best_score)\n",
    "best_threshold = thresholds[index]"
   ]
  },
  {
   "cell_type": "code",
   "execution_count": 53,
   "metadata": {},
   "outputs": [
    {
     "data": {
      "text/plain": [
       "<matplotlib.legend.Legend at 0x281852a9b70>"
      ]
     },
     "execution_count": 53,
     "metadata": {},
     "output_type": "execute_result"
    },
    {
     "data": {
      "image/png": "[encoded data removed]",
      "text/plain": [
       "<matplotlib.figure.Figure at 0x28185223240>"
      ]
     },
     "metadata": {},
     "output_type": "display_data"
    }
   ],
   "source": [
    "# visualize the threshold and scores\n",
    "fig = plt.figure(figsize=(8, 8))\n",
    "plt.plot(thresholds, scores, color='darkorange', \n",
    "         label='Best threshold is {}, \\n  best f1 score is {}'.format(best_threshold, best_score))\n",
    "plt.xlim([0.0, 1.0])\n",
    "plt.ylim([0.0, 1.05])\n",
    "plt.xlabel('Thresholds')\n",
    "plt.ylabel('F1 Score')\n",
    "plt.title('Searching for the best threshold')\n",
    "plt.legend()"
   ]
  }
 ],
 "metadata": {
  "kernelspec": {
   "display_name": "Python 2",
   "language": "python",
   "name": "python2"
  },
  "language_info": {
   "codemirror_mode": {
    "name": "ipython",
    "version": 2
   },
   "file_extension": ".py",
   "mimetype": "text/x-python",
   "name": "python",
   "nbconvert_exporter": "python",
   "pygments_lexer": "ipython2",
   "version": "2.7.14"
  }
 },
 "nbformat": 4,
 "nbformat_minor": 2
}
