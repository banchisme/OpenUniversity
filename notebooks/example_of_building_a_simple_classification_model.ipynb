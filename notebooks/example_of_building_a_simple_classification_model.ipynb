{
 "cells": [
  {
   "cell_type": "markdown",
   "metadata": {},
   "source": [
    "<h1><center>A Simple Classification Model</center></h1>   \n",
    "\n",
    "This notebook demonstrate how to:\n",
    "1. get useful features from the raw [Open University Learning Analytics dataset](https://analyse.kmi.open.ac.uk/open_dataset)\n",
    "2. feed these features to a simple random forest model and do some analysis"
   ]
  },
  {
   "cell_type": "code",
   "execution_count": 1,
   "metadata": {},
   "outputs": [],
   "source": [
    "import sys\n",
    "import os\n",
    "import pandas as pd\n",
    "sys.path = [os.path.abspath('..')] + sys.path # have not install the university package yet\n",
    "from university import data_loader, feature_pool, preprocessing, settings, features\n",
    "from tqdm import tqdm_notebook"
   ]
  },
  {
   "cell_type": "markdown",
   "metadata": {},
   "source": [
    "### 1. load data  \n",
    "\n",
    "the `university.data_loader` module have two useful functions to load data:\n",
    "1. `get_raw_data`: this will load the raw data\n",
    "2. `train_test_split`: this will split the raw data into training/testing data"
   ]
  },
  {
   "cell_type": "code",
   "execution_count": 2,
   "metadata": {},
   "outputs": [],
   "source": [
    "raw = data_loader.get_raw_data()"
   ]
  },
  {
   "cell_type": "code",
   "execution_count": 3,
   "metadata": {},
   "outputs": [
    {
     "data": {
      "text/plain": [
       "dict_keys(['student_assessment', 'student_info', 'student_vle', 'courses', 'vle', 'student_registration', 'assessments'])"
      ]
     },
     "execution_count": 3,
     "metadata": {},
     "output_type": "execute_result"
    }
   ],
   "source": [
    "raw.keys()"
   ]
  },
  {
   "cell_type": "code",
   "execution_count": 4,
   "metadata": {},
   "outputs": [],
   "source": [
    "train, test = data_loader.train_test_split(raw)"
   ]
  },
  {
   "cell_type": "markdown",
   "metadata": {},
   "source": [
    "### 2. data pipeline  \n",
    "\n",
    "all the features are defined in `university.feature_pool` module.  These features can be categories to two main types: \n",
    "1. features that already exists in the raw data, but need proceessing (e.g., encode categorical data/ordinal data)\n",
    "2. high level features that based on published work (e.g., time-regularities) and our current work (procrasitination and activity-regularity; these have not been fully implemented yet)"
   ]
  },
  {
   "cell_type": "code",
   "execution_count": 5,
   "metadata": {},
   "outputs": [],
   "source": [
    "def build_features(data_source, targets=[['Pass', 'Distinction'], ['Fail']], start=0, end=32):\n",
    "    r\"\"\" get X, y for training and testing\n",
    "    Argument:\n",
    "        data_source (dict): dictionary that contain the raw/train/test data\n",
    "        targets (list of lists): targets that are of interest, see `university.feature_pool.get_response` doc for detail\n",
    "        start (int): starting date of early prediction data snap shot \n",
    "        end (int): ending date of early prediction data snap shot\n",
    "    Return:\n",
    "        X, y as pd.DataFrame\n",
    "    \"\"\"\n",
    "    \n",
    "    # build y\n",
    "    feature_container = feature_pool.get_response(data_source, targets)\n",
    "    \n",
    "    # buidld X\n",
    "    num_features = feature_pool.get_numeric_features_batch(data_source)\n",
    "    cat_features = feature_pool.get_categorical_features_batch(data_source)\n",
    "    ord_features = feature_pool.get_ordinal_features_batch(data_source)\n",
    "    regularity_features = feature_pool.get_time_regularity(data_source, start, end)\n",
    "    effort_features = feature_pool.get_effort(data_source, start, end)\n",
    "    \n",
    "    # merge X and y to align the rows\n",
    "    for sub_container in [num_features, cat_features, ord_features, regularity_features, effort_features]:\n",
    "        feature_container.update(sub_container)\n",
    "    \n",
    "    data = feature_container.merge().data\n",
    "    X = data[data.columns[1:]]\n",
    "    y = data[data.columns[0:1]]\n",
    "    \n",
    "    return X, y"
   ]
  },
  {
   "cell_type": "code",
   "execution_count": 6,
   "metadata": {},
   "outputs": [],
   "source": [
    "X_train, y_train = build_features(train)"
   ]
  },
  {
   "cell_type": "code",
   "execution_count": 7,
   "metadata": {},
   "outputs": [],
   "source": [
    "X_test, y_test = build_features(test)"
   ]
  },
  {
   "cell_type": "markdown",
   "metadata": {},
   "source": [
    "### 3. train a simple model"
   ]
  },
  {
   "cell_type": "code",
   "execution_count": 8,
   "metadata": {},
   "outputs": [],
   "source": [
    "from sklearn.ensemble import RandomForestClassifier\n",
    "from sklearn.model_selection import cross_val_score, KFold, GridSearchCV\n",
    "from sklearn.metrics import roc_auc_score, roc_curve, f1_score, make_scorer, precision_score, recall_score, confusion_matrix"
   ]
  },
  {
   "cell_type": "code",
   "execution_count": 9,
   "metadata": {},
   "outputs": [],
   "source": [
    "f1_scorer = make_scorer(f1_score)\n",
    "cv = KFold(5) # concerning the fitting speed, ideally this should be 20, at least"
   ]
  },
  {
   "cell_type": "code",
   "execution_count": 10,
   "metadata": {},
   "outputs": [],
   "source": [
    "# random forest\n",
    "forest = RandomForestClassifier(min_samples_split=10, min_samples_leaf=10, class_weight='balanced')\n",
    "forest_parameters = {'n_estimators': (100, 200), 'max_depth': (10, 30)}\n",
    "forest_clf = GridSearchCV(forest, forest_parameters, f1_scorer, cv=cv)"
   ]
  },
  {
   "cell_type": "code",
   "execution_count": 11,
   "metadata": {},
   "outputs": [],
   "source": [
    "X_train.fillna(0, inplace=True) # adhoc, fill missing with zeros. Can do better."
   ]
  },
  {
   "cell_type": "code",
   "execution_count": 25,
   "metadata": {},
   "outputs": [
    {
     "data": {
      "text/plain": [
       "GridSearchCV(cv=KFold(n_splits=5, random_state=None, shuffle=False),\n",
       "             error_score='raise-deprecating',\n",
       "             estimator=RandomForestClassifier(bootstrap=True,\n",
       "                                              class_weight='balanced',\n",
       "                                              criterion='gini', max_depth=None,\n",
       "                                              max_features='auto',\n",
       "                                              max_leaf_nodes=None,\n",
       "                                              min_impurity_decrease=0.0,\n",
       "                                              min_impurity_split=None,\n",
       "                                              min_samples_leaf=10,\n",
       "                                              min_samples_split=10,\n",
       "                                              min_weight_fraction_leaf=0.0,\n",
       "                                              n_estimators='warn', n_jobs=None,\n",
       "                                              oob_score=False,\n",
       "                                              random_state=None, verbose=0,\n",
       "                                              warm_start=False),\n",
       "             iid='warn', n_jobs=None,\n",
       "             param_grid={'max_depth': (10, 30), 'n_estimators': (100, 200)},\n",
       "             pre_dispatch='2*n_jobs', refit=True, return_train_score=False,\n",
       "             scoring=make_scorer(f1_score), verbose=0)"
      ]
     },
     "execution_count": 25,
     "metadata": {},
     "output_type": "execute_result"
    }
   ],
   "source": [
    "forest_clf.fit(X_train.values, y_train.values.reshape(-1))"
   ]
  },
  {
   "cell_type": "code",
   "execution_count": 26,
   "metadata": {},
   "outputs": [],
   "source": [
    "def evaluate(model, X_test, y_test):\n",
    "    predict = model.predict(X_test)\n",
    "    precision = precision_score(y_test, predict)\n",
    "    recall = recall_score(y_test, predict)\n",
    "    f1 = f1_score(y_test, predict)\n",
    "    predict_ba = model.predict_proba(X_test)[:, 1]\n",
    "    auc = roc_auc_score(y_test, predict_ba)\n",
    "    \n",
    "    return precision, recall, f1, auc "
   ]
  },
  {
   "cell_type": "code",
   "execution_count": 27,
   "metadata": {},
   "outputs": [],
   "source": [
    "test_pre, test_rec, test_f1, test_auc = evaluate(forest_clf, X_test.fillna(0), y_test)"
   ]
  },
  {
   "cell_type": "code",
   "execution_count": 28,
   "metadata": {},
   "outputs": [
    {
     "name": "stdout",
     "output_type": "stream",
     "text": [
      "f1 score on training is 0.5778100897607173\n",
      "f1 score on testing is 0.5141430948419302\n"
     ]
    }
   ],
   "source": [
    "print('f1 score on training is {}'.format(forest_clf.best_score_))\n",
    "print('f1 score on testing is {}'.format(test_f1))"
   ]
  },
  {
   "cell_type": "markdown",
   "metadata": {},
   "source": [
    "### 4. model analysis"
   ]
  },
  {
   "cell_type": "markdown",
   "metadata": {},
   "source": [
    "###### 4.1 feature importance"
   ]
  },
  {
   "cell_type": "code",
   "execution_count": 29,
   "metadata": {},
   "outputs": [
    {
     "data": {
      "text/plain": [
       "regularity_indicator_ws1    0.166829\n",
       "effort                      0.150347\n",
       "regularity_indicator_ws3    0.119429\n",
       "regularity_indicator_ws2    0.099892\n",
       "regularity_indicator_pwd    0.086508\n",
       "regularity_indicator_fwd    0.070243\n",
       "highest_education           0.065237\n",
       "imd_band                    0.050121\n",
       "date_registration           0.046766\n",
       "studied_credits             0.035705\n",
       "dtype: float64"
      ]
     },
     "execution_count": 29,
     "metadata": {},
     "output_type": "execute_result"
    }
   ],
   "source": [
    "# look at feature importance\n",
    "feature_names = X_train.columns\n",
    "feature_scores = forest_clf.best_estimator_.feature_importances_\n",
    "feature_importance = pd.Series(feature_scores, index=feature_names)\n",
    "feature_importance.sort_values(ascending=False).head(10)"
   ]
  },
  {
   "cell_type": "markdown",
   "metadata": {},
   "source": [
    "So, time regularity seems to be a very important indicator to check if students are going to fail/pass"
   ]
  },
  {
   "cell_type": "markdown",
   "metadata": {},
   "source": [
    "###### 4.2 AUC"
   ]
  },
  {
   "cell_type": "code",
   "execution_count": 30,
   "metadata": {},
   "outputs": [],
   "source": [
    "fpr, tpr, _ = roc_curve(y_test, forest_clf.predict_proba(X_test.fillna(0))[:, 1])"
   ]
  },
  {
   "cell_type": "code",
   "execution_count": 31,
   "metadata": {},
   "outputs": [],
   "source": [
    "import matplotlib.pyplot as plt\n",
    "%matplotlib inline"
   ]
  },
  {
   "cell_type": "code",
   "execution_count": 32,
   "metadata": {},
   "outputs": [
    {
     "data": {
      "text/plain": [
       "<matplotlib.legend.Legend at 0x116e9bfd0>"
      ]
     },
     "execution_count": 32,
     "metadata": {},
     "output_type": "execute_result"
    },
    {
     "data": {
      "image/png": "[encoded data removed]",
      "text/plain": [
       "<Figure size 576x576 with 1 Axes>"
      ]
     },
     "metadata": {
      "needs_background": "light"
     },
     "output_type": "display_data"
    }
   ],
   "source": [
    "fig = plt.figure(figsize=(8, 8))\n",
    "plt.plot(fpr, tpr, color='darkorange', label='ROC curve (area = {})'.format(test_auc))\n",
    "plt.plot([0, 1], [0, 1], color='navy', linestyle='--')\n",
    "plt.xlim([0.0, 1.0])\n",
    "plt.ylim([0.0, 1.05])\n",
    "plt.xlabel('False Positive Rate')\n",
    "plt.ylabel('True Positive Rate')\n",
    "plt.title('ROC for the best model')\n",
    "plt.legend(loc=\"lower right\")"
   ]
  },
  {
   "cell_type": "markdown",
   "metadata": {},
   "source": [
    "###### 4.3 Confusion Matrix"
   ]
  },
  {
   "cell_type": "code",
   "execution_count": 33,
   "metadata": {},
   "outputs": [],
   "source": [
    "y_pred = forest_clf.predict(X_test.fillna(0))"
   ]
  },
  {
   "cell_type": "code",
   "execution_count": 34,
   "metadata": {},
   "outputs": [
    {
     "data": {
      "text/html": [
       "<div>\n",
       "<style scoped>\n",
       "    .dataframe tbody tr th:only-of-type {\n",
       "        vertical-align: middle;\n",
       "    }\n",
       "\n",
       "    .dataframe tbody tr th {\n",
       "        vertical-align: top;\n",
       "    }\n",
       "\n",
       "    .dataframe thead th {\n",
       "        text-align: right;\n",
       "    }\n",
       "</style>\n",
       "<table border=\"1\" class=\"dataframe\">\n",
       "  <thead>\n",
       "    <tr style=\"text-align: right;\">\n",
       "      <th></th>\n",
       "      <th>Negative</th>\n",
       "      <th>Positive</th>\n",
       "    </tr>\n",
       "  </thead>\n",
       "  <tbody>\n",
       "    <tr>\n",
       "      <th>False</th>\n",
       "      <td>3862</td>\n",
       "      <td>1595</td>\n",
       "    </tr>\n",
       "    <tr>\n",
       "      <th>True</th>\n",
       "      <td>741</td>\n",
       "      <td>1236</td>\n",
       "    </tr>\n",
       "  </tbody>\n",
       "</table>\n",
       "</div>"
      ],
      "text/plain": [
       "       Negative  Positive\n",
       "False      3862      1595\n",
       "True        741      1236"
      ]
     },
     "execution_count": 34,
     "metadata": {},
     "output_type": "execute_result"
    }
   ],
   "source": [
    "pd.DataFrame(confusion_matrix(y_test, y_pred), index=['False', 'True'], columns=['Negative', 'Positive'])"
   ]
  },
  {
   "cell_type": "markdown",
   "metadata": {},
   "source": [
    "###### 4.4 Optimal threshold"
   ]
  },
  {
   "cell_type": "code",
   "execution_count": 37,
   "metadata": {},
   "outputs": [],
   "source": [
    "def best_threshold(y_true, proba, scoring='f1_score', step = 0.01):\n",
    "    if scoring == 'f1_score':\n",
    "        scoring_func = f1_score\n",
    "    else:\n",
    "        raise NotImplementedError\n",
    "    \n",
    "    # exclusively go through all\n",
    "    thresholds = []\n",
    "    scores = []\n",
    "    threshold = 0\n",
    "    \n",
    "    while threshold <= 0.99:\n",
    "        y_predict = (proba > threshold)\n",
    "        curr_score = scoring_func(y_true, y_predict)\n",
    "        \n",
    "        thresholds.append(threshold)\n",
    "        scores.append(curr_score)\n",
    "        threshold += step\n",
    "    return thresholds, scores"
   ]
  },
  {
   "cell_type": "code",
   "execution_count": 39,
   "metadata": {},
   "outputs": [
    {
     "name": "stderr",
     "output_type": "stream",
     "text": [
      "/Users/banchisme/anaconda2/envs/py3/lib/python3.7/site-packages/sklearn/metrics/classification.py:1437: UndefinedMetricWarning: F-score is ill-defined and being set to 0.0 due to no predicted samples.\n",
      "  'precision', 'predicted', average, warn_for)\n"
     ]
    }
   ],
   "source": [
    "thresholds, scores = best_threshold(y_test, forest_clf.predict_proba(X_test.fillna(0))[:, 1])\n",
    "best_score = max(scores)\n",
    "index = scores.index(best_score)\n",
    "best_threshold = thresholds[index]"
   ]
  },
  {
   "cell_type": "code",
   "execution_count": 40,
   "metadata": {},
   "outputs": [
    {
     "data": {
      "text/plain": [
       "<matplotlib.legend.Legend at 0x117706358>"
      ]
     },
     "execution_count": 40,
     "metadata": {},
     "output_type": "execute_result"
    },
    {
     "data": {
      "image/png": "[encoded data removed]",
      "text/plain": [
       "<Figure size 576x576 with 1 Axes>"
      ]
     },
     "metadata": {
      "needs_background": "light"
     },
     "output_type": "display_data"
    }
   ],
   "source": [
    "# visualize the threshold and scores\n",
    "fig = plt.figure(figsize=(8, 8))\n",
    "plt.plot(thresholds, scores, color='darkorange', \n",
    "         label='Best threshold is {}, \\n  best f1 score is {}'.format(best_threshold, best_score))\n",
    "plt.xlim([0.0, 1.0])\n",
    "plt.ylim([0.0, 1.05])\n",
    "plt.xlabel('Thresholds')\n",
    "plt.ylabel('F1 Score')\n",
    "plt.title('Searching for the best threshold')\n",
    "plt.legend()"
   ]
  },
  {
   "cell_type": "code",
   "execution_count": null,
   "metadata": {},
   "outputs": [],
   "source": []
  }
 ],
 "metadata": {
  "kernelspec": {
   "display_name": "py3",
   "language": "python",
   "name": "py3"
  },
  "language_info": {
   "codemirror_mode": {
    "name": "ipython",
    "version": 3
   },
   "file_extension": ".py",
   "mimetype": "text/x-python",
   "name": "python",
   "nbconvert_exporter": "python",
   "pygments_lexer": "ipython3",
   "version": "3.7.3"
  }
 },
 "nbformat": 4,
 "nbformat_minor": 2
}
