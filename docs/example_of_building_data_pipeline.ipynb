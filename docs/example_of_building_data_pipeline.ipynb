{
 "cells": [
  {
   "cell_type": "markdown",
   "metadata": {},
   "source": [
    "<center><h1>Data Pipeline</h1></center>\n",
    "This notebooks shows how to use the `utils` package to build a data pipeline for the `open-university` research project.   \n",
    "\n",
    "The entire pipeline have three steps:\n",
    "1. load raw data with the `load_data` module\n",
    "2. preprocess data with the `preprocessing` module\n",
    "3. wrap and combine features with the `features` module"
   ]
  },
  {
   "cell_type": "code",
   "execution_count": 1,
   "metadata": {},
   "outputs": [],
   "source": [
    "import sys\n",
    "import os\n",
    "import pandas as pd\n",
    "sys.path = [os.path.abspath('..')] + sys.path # don't need this if you have installed the utils\n",
    "import seaborn as sns\n",
    "from collections import Counter\n",
    "from utils import settings, data_loader, features, exceptions, preprocessing"
   ]
  },
  {
   "cell_type": "markdown",
   "metadata": {},
   "source": [
    "### 1. load data"
   ]
  },
  {
   "cell_type": "code",
   "execution_count": 2,
   "metadata": {},
   "outputs": [],
   "source": [
    "# utils comes with a data_loader module that ease the workload to load all data\n",
    "# data_loader.get_raw_data() will import all the .csv file inside the settings.DATA_DIR into a python dictionary\n",
    "data_container = data_loader.get_raw_data()"
   ]
  },
  {
   "cell_type": "code",
   "execution_count": 3,
   "metadata": {},
   "outputs": [
    {
     "data": {
      "text/plain": [
       "dict_keys(['student_assessment', 'student_info', 'student_vle', 'courses', 'vle', 'student_registration', 'assessments'])"
      ]
     },
     "execution_count": 3,
     "metadata": {},
     "output_type": "execute_result"
    }
   ],
   "source": [
    "# here are the six files\n",
    "data_container.keys()"
   ]
  },
  {
   "cell_type": "markdown",
   "metadata": {},
   "source": [
    "![database schema](database_schema.png)"
   ]
  },
  {
   "cell_type": "code",
   "execution_count": 4,
   "metadata": {},
   "outputs": [],
   "source": [
    "# the data_loader module also comes with a train_test_split function\n",
    "# by default, this function will split the data into training and testing by year\n",
    "train, test = data_loader.train_test_split(data_container['courses'])"
   ]
  },
  {
   "cell_type": "code",
   "execution_count": 5,
   "metadata": {},
   "outputs": [
    {
     "data": {
      "text/plain": [
       "2013J    6\n",
       "2014B    6\n",
       "2013B    3\n",
       "Name: code_presentation, dtype: int64"
      ]
     },
     "execution_count": 5,
     "metadata": {},
     "output_type": "execute_result"
    }
   ],
   "source": [
    "train['code_presentation'].value_counts()"
   ]
  },
  {
   "cell_type": "code",
   "execution_count": 6,
   "metadata": {},
   "outputs": [
    {
     "data": {
      "text/plain": [
       "2014J    7\n",
       "Name: code_presentation, dtype: int64"
      ]
     },
     "execution_count": 6,
     "metadata": {},
     "output_type": "execute_result"
    }
   ],
   "source": [
    "test['code_presentation'].value_counts()"
   ]
  },
  {
   "cell_type": "markdown",
   "metadata": {},
   "source": [
    "### 2. extract features\n",
    "\n",
    "preprocessing and feature engineering is the **most time consuming** part of learning analytics.\n",
    "in case:\n",
    "1. you don't care about explaning the feature meaning, and\n",
    "2. you have enough data\n",
    "\n",
    "I strongly suggest you try out one of the deep learning framework, say [tensorflow](https://www.tensorflow.org/)   "
   ]
  },
  {
   "cell_type": "code",
   "execution_count": 7,
   "metadata": {},
   "outputs": [],
   "source": [
    "# utils.preprocessing comes with two helper classes that preprocess numeric and categorical features\n",
    "# you can check the code to see how to consumerize their behaviors\n",
    "num = preprocessing.NumericData()\n",
    "cat = preprocessing.CategoricalData()"
   ]
  },
  {
   "cell_type": "code",
   "execution_count": 8,
   "metadata": {},
   "outputs": [],
   "source": [
    "# preprocessing.extractor is helper class to easily extract a specific column from raw data, and set the index\n",
    "extractor = preprocessing.ColumnExtractor(\n",
    "    data_container['student_info'], \n",
    "    index_col=['code_module', 'code_presentation', 'id_student'])"
   ]
  },
  {
   "cell_type": "code",
   "execution_count": 9,
   "metadata": {},
   "outputs": [],
   "source": [
    "# we will only extract a small set of columns from the raw data for demonstration purpose\n",
    "columns = []\n",
    "\n",
    "cat_column_names = ['gender', 'region', 'highest_education']\n",
    "num_column_names = ['studied_credits']\n",
    "\n",
    "for col_name in cat_column_names:\n",
    "    columns.append((col_name, extractor.extract(col_name), cat)) # (column_name, raw_data, processor_obj)\n",
    "\n",
    "for col_name in num_column_names:\n",
    "    columns.append((col_name, extractor.extract(col_name), num))"
   ]
  },
  {
   "cell_type": "code",
   "execution_count": 10,
   "metadata": {},
   "outputs": [],
   "source": [
    "# now, encode the columns if needed, and wrap it with the feature class\n",
    "# features.FeatureDict is a helper class that hold all the features\n",
    "feature_container = features.FeatureDict()\n",
    "\n",
    "for col_name, raw_data, processor in columns:\n",
    "    processed = processor.fit_transform(raw_data)\n",
    "    feature = features.Feature(col_name, processed)\n",
    "    feature_container[feature.name] = feature"
   ]
  },
  {
   "cell_type": "markdown",
   "metadata": {},
   "source": [
    "### 3. combine features"
   ]
  },
  {
   "cell_type": "code",
   "execution_count": 11,
   "metadata": {},
   "outputs": [],
   "source": [
    "# you can merge all the features easily with the FeatureDict.merge() method\n",
    "merged = feature_container.merge([])"
   ]
  },
  {
   "cell_type": "code",
   "execution_count": 12,
   "metadata": {},
   "outputs": [
    {
     "data": {
      "text/html": [
       "<div>\n",
       "<style scoped>\n",
       "    .dataframe tbody tr th:only-of-type {\n",
       "        vertical-align: middle;\n",
       "    }\n",
       "\n",
       "    .dataframe tbody tr th {\n",
       "        vertical-align: top;\n",
       "    }\n",
       "\n",
       "    .dataframe thead th {\n",
       "        text-align: right;\n",
       "    }\n",
       "</style>\n",
       "<table border=\"1\" class=\"dataframe\">\n",
       "  <thead>\n",
       "    <tr style=\"text-align: right;\">\n",
       "      <th></th>\n",
       "      <th></th>\n",
       "      <th></th>\n",
       "      <th>gender_M</th>\n",
       "      <th>gender_F</th>\n",
       "      <th>region_Scotland</th>\n",
       "      <th>region_East Anglian Region</th>\n",
       "      <th>region_London Region</th>\n",
       "      <th>region_South Region</th>\n",
       "      <th>region_North Western Region</th>\n",
       "      <th>region_West Midlands Region</th>\n",
       "      <th>region_South West Region</th>\n",
       "      <th>region_East Midlands Region</th>\n",
       "      <th>region_South East Region</th>\n",
       "      <th>region_Wales</th>\n",
       "      <th>highest_education_A Level or Equivalent</th>\n",
       "      <th>highest_education_Lower Than A Level</th>\n",
       "      <th>highest_education_HE Qualification</th>\n",
       "      <th>highest_education_No Formal quals</th>\n",
       "      <th>highest_education_Post Graduate Qualification</th>\n",
       "      <th>studied_credits</th>\n",
       "    </tr>\n",
       "    <tr>\n",
       "      <th>code_module</th>\n",
       "      <th>code_presentation</th>\n",
       "      <th>id_student</th>\n",
       "      <th></th>\n",
       "      <th></th>\n",
       "      <th></th>\n",
       "      <th></th>\n",
       "      <th></th>\n",
       "      <th></th>\n",
       "      <th></th>\n",
       "      <th></th>\n",
       "      <th></th>\n",
       "      <th></th>\n",
       "      <th></th>\n",
       "      <th></th>\n",
       "      <th></th>\n",
       "      <th></th>\n",
       "      <th></th>\n",
       "      <th></th>\n",
       "      <th></th>\n",
       "      <th></th>\n",
       "    </tr>\n",
       "  </thead>\n",
       "  <tbody>\n",
       "    <tr>\n",
       "      <th rowspan=\"5\" valign=\"top\">AAA</th>\n",
       "      <th rowspan=\"5\" valign=\"top\">2013J</th>\n",
       "      <th>11391</th>\n",
       "      <td>1.0</td>\n",
       "      <td>0.0</td>\n",
       "      <td>0.0</td>\n",
       "      <td>1.0</td>\n",
       "      <td>0.0</td>\n",
       "      <td>0.0</td>\n",
       "      <td>0.0</td>\n",
       "      <td>0.0</td>\n",
       "      <td>0.0</td>\n",
       "      <td>0.0</td>\n",
       "      <td>0.0</td>\n",
       "      <td>0.0</td>\n",
       "      <td>0.0</td>\n",
       "      <td>0.0</td>\n",
       "      <td>1.0</td>\n",
       "      <td>0.0</td>\n",
       "      <td>0.0</td>\n",
       "      <td>3.901483</td>\n",
       "    </tr>\n",
       "    <tr>\n",
       "      <th>28400</th>\n",
       "      <td>0.0</td>\n",
       "      <td>1.0</td>\n",
       "      <td>1.0</td>\n",
       "      <td>0.0</td>\n",
       "      <td>0.0</td>\n",
       "      <td>0.0</td>\n",
       "      <td>0.0</td>\n",
       "      <td>0.0</td>\n",
       "      <td>0.0</td>\n",
       "      <td>0.0</td>\n",
       "      <td>0.0</td>\n",
       "      <td>0.0</td>\n",
       "      <td>0.0</td>\n",
       "      <td>0.0</td>\n",
       "      <td>1.0</td>\n",
       "      <td>0.0</td>\n",
       "      <td>0.0</td>\n",
       "      <td>-0.481076</td>\n",
       "    </tr>\n",
       "    <tr>\n",
       "      <th>30268</th>\n",
       "      <td>0.0</td>\n",
       "      <td>1.0</td>\n",
       "      <td>0.0</td>\n",
       "      <td>0.0</td>\n",
       "      <td>0.0</td>\n",
       "      <td>0.0</td>\n",
       "      <td>1.0</td>\n",
       "      <td>0.0</td>\n",
       "      <td>0.0</td>\n",
       "      <td>0.0</td>\n",
       "      <td>0.0</td>\n",
       "      <td>0.0</td>\n",
       "      <td>1.0</td>\n",
       "      <td>0.0</td>\n",
       "      <td>0.0</td>\n",
       "      <td>0.0</td>\n",
       "      <td>0.0</td>\n",
       "      <td>-0.481076</td>\n",
       "    </tr>\n",
       "    <tr>\n",
       "      <th>31604</th>\n",
       "      <td>0.0</td>\n",
       "      <td>1.0</td>\n",
       "      <td>0.0</td>\n",
       "      <td>0.0</td>\n",
       "      <td>0.0</td>\n",
       "      <td>0.0</td>\n",
       "      <td>0.0</td>\n",
       "      <td>0.0</td>\n",
       "      <td>0.0</td>\n",
       "      <td>0.0</td>\n",
       "      <td>1.0</td>\n",
       "      <td>0.0</td>\n",
       "      <td>1.0</td>\n",
       "      <td>0.0</td>\n",
       "      <td>0.0</td>\n",
       "      <td>0.0</td>\n",
       "      <td>0.0</td>\n",
       "      <td>-0.481076</td>\n",
       "    </tr>\n",
       "    <tr>\n",
       "      <th>32885</th>\n",
       "      <td>0.0</td>\n",
       "      <td>1.0</td>\n",
       "      <td>0.0</td>\n",
       "      <td>0.0</td>\n",
       "      <td>0.0</td>\n",
       "      <td>0.0</td>\n",
       "      <td>0.0</td>\n",
       "      <td>1.0</td>\n",
       "      <td>0.0</td>\n",
       "      <td>0.0</td>\n",
       "      <td>0.0</td>\n",
       "      <td>0.0</td>\n",
       "      <td>0.0</td>\n",
       "      <td>1.0</td>\n",
       "      <td>0.0</td>\n",
       "      <td>0.0</td>\n",
       "      <td>0.0</td>\n",
       "      <td>-0.481076</td>\n",
       "    </tr>\n",
       "  </tbody>\n",
       "</table>\n",
       "</div>"
      ],
      "text/plain": [
       "                                          gender_M  gender_F  region_Scotland  \\\n",
       "code_module code_presentation id_student                                        \n",
       "AAA         2013J             11391            1.0       0.0              0.0   \n",
       "                              28400            0.0       1.0              1.0   \n",
       "                              30268            0.0       1.0              0.0   \n",
       "                              31604            0.0       1.0              0.0   \n",
       "                              32885            0.0       1.0              0.0   \n",
       "\n",
       "                                          region_East Anglian Region  \\\n",
       "code_module code_presentation id_student                               \n",
       "AAA         2013J             11391                              1.0   \n",
       "                              28400                              0.0   \n",
       "                              30268                              0.0   \n",
       "                              31604                              0.0   \n",
       "                              32885                              0.0   \n",
       "\n",
       "                                          region_London Region  \\\n",
       "code_module code_presentation id_student                         \n",
       "AAA         2013J             11391                        0.0   \n",
       "                              28400                        0.0   \n",
       "                              30268                        0.0   \n",
       "                              31604                        0.0   \n",
       "                              32885                        0.0   \n",
       "\n",
       "                                          region_South Region  \\\n",
       "code_module code_presentation id_student                        \n",
       "AAA         2013J             11391                       0.0   \n",
       "                              28400                       0.0   \n",
       "                              30268                       0.0   \n",
       "                              31604                       0.0   \n",
       "                              32885                       0.0   \n",
       "\n",
       "                                          region_North Western Region  \\\n",
       "code_module code_presentation id_student                                \n",
       "AAA         2013J             11391                               0.0   \n",
       "                              28400                               0.0   \n",
       "                              30268                               1.0   \n",
       "                              31604                               0.0   \n",
       "                              32885                               0.0   \n",
       "\n",
       "                                          region_West Midlands Region  \\\n",
       "code_module code_presentation id_student                                \n",
       "AAA         2013J             11391                               0.0   \n",
       "                              28400                               0.0   \n",
       "                              30268                               0.0   \n",
       "                              31604                               0.0   \n",
       "                              32885                               1.0   \n",
       "\n",
       "                                          region_South West Region  \\\n",
       "code_module code_presentation id_student                             \n",
       "AAA         2013J             11391                            0.0   \n",
       "                              28400                            0.0   \n",
       "                              30268                            0.0   \n",
       "                              31604                            0.0   \n",
       "                              32885                            0.0   \n",
       "\n",
       "                                          region_East Midlands Region  \\\n",
       "code_module code_presentation id_student                                \n",
       "AAA         2013J             11391                               0.0   \n",
       "                              28400                               0.0   \n",
       "                              30268                               0.0   \n",
       "                              31604                               0.0   \n",
       "                              32885                               0.0   \n",
       "\n",
       "                                          region_South East Region  \\\n",
       "code_module code_presentation id_student                             \n",
       "AAA         2013J             11391                            0.0   \n",
       "                              28400                            0.0   \n",
       "                              30268                            0.0   \n",
       "                              31604                            1.0   \n",
       "                              32885                            0.0   \n",
       "\n",
       "                                          region_Wales  \\\n",
       "code_module code_presentation id_student                 \n",
       "AAA         2013J             11391                0.0   \n",
       "                              28400                0.0   \n",
       "                              30268                0.0   \n",
       "                              31604                0.0   \n",
       "                              32885                0.0   \n",
       "\n",
       "                                          highest_education_A Level or Equivalent  \\\n",
       "code_module code_presentation id_student                                            \n",
       "AAA         2013J             11391                                           0.0   \n",
       "                              28400                                           0.0   \n",
       "                              30268                                           1.0   \n",
       "                              31604                                           1.0   \n",
       "                              32885                                           0.0   \n",
       "\n",
       "                                          highest_education_Lower Than A Level  \\\n",
       "code_module code_presentation id_student                                         \n",
       "AAA         2013J             11391                                        0.0   \n",
       "                              28400                                        0.0   \n",
       "                              30268                                        0.0   \n",
       "                              31604                                        0.0   \n",
       "                              32885                                        1.0   \n",
       "\n",
       "                                          highest_education_HE Qualification  \\\n",
       "code_module code_presentation id_student                                       \n",
       "AAA         2013J             11391                                      1.0   \n",
       "                              28400                                      1.0   \n",
       "                              30268                                      0.0   \n",
       "                              31604                                      0.0   \n",
       "                              32885                                      0.0   \n",
       "\n",
       "                                          highest_education_No Formal quals  \\\n",
       "code_module code_presentation id_student                                      \n",
       "AAA         2013J             11391                                     0.0   \n",
       "                              28400                                     0.0   \n",
       "                              30268                                     0.0   \n",
       "                              31604                                     0.0   \n",
       "                              32885                                     0.0   \n",
       "\n",
       "                                          highest_education_Post Graduate Qualification  \\\n",
       "code_module code_presentation id_student                                                  \n",
       "AAA         2013J             11391                                                 0.0   \n",
       "                              28400                                                 0.0   \n",
       "                              30268                                                 0.0   \n",
       "                              31604                                                 0.0   \n",
       "                              32885                                                 0.0   \n",
       "\n",
       "                                          studied_credits  \n",
       "code_module code_presentation id_student                   \n",
       "AAA         2013J             11391              3.901483  \n",
       "                              28400             -0.481076  \n",
       "                              30268             -0.481076  \n",
       "                              31604             -0.481076  \n",
       "                              32885             -0.481076  "
      ]
     },
     "execution_count": 12,
     "metadata": {},
     "output_type": "execute_result"
    }
   ],
   "source": [
    "merged.data.head()"
   ]
  }
 ],
 "metadata": {
  "kernelspec": {
   "display_name": "py3",
   "language": "python",
   "name": "py3"
  },
  "language_info": {
   "codemirror_mode": {
    "name": "ipython",
    "version": 3
   },
   "file_extension": ".py",
   "mimetype": "text/x-python",
   "name": "python",
   "nbconvert_exporter": "python",
   "pygments_lexer": "ipython3",
   "version": "3.7.3"
  }
 },
 "nbformat": 4,
 "nbformat_minor": 2
}
