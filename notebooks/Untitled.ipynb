{
 "cells": [
  {
   "cell_type": "code",
   "execution_count": 2,
   "metadata": {},
   "outputs": [],
   "source": [
    "import sys\n",
    "import os\n",
    "import pandas as pd\n",
    "sys.path = [os.path.abspath('..')] + sys.path"
   ]
  },
  {
   "cell_type": "code",
   "execution_count": 11,
   "metadata": {},
   "outputs": [],
   "source": [
    "from utils import settings"
   ]
  },
  {
   "cell_type": "code",
   "execution_count": 15,
   "metadata": {},
   "outputs": [],
   "source": [
    "def format_file_name(file_name):\n",
    "    r\"\"\" format file name\n",
    "    :param file_name (str): raw file name\n",
    "    :return: formated file name\n",
    "    \"\"\"\n",
    "    res = ''\n",
    "\n",
    "    for c in file_name:\n",
    "        if c == '.':\n",
    "            break   # keep only part before '.'\n",
    "        elif c.lower() != c:\n",
    "            res += '_' + c.lower() # change camel separate into underscore separate\n",
    "        else:\n",
    "            res += c\n",
    "    return res"
   ]
  },
  {
   "cell_type": "code",
   "execution_count": 16,
   "metadata": {},
   "outputs": [],
   "source": [
    "def get_raw_data(file_names=[]):\n",
    "    r\"\"\"get raw data\n",
    "        Argument:\n",
    "            file_names (list) a list of file names to load\n",
    "        Return:\n",
    "            data (dict): {file_name: data as a pandas.DataFrame}\n",
    "    \"\"\"\n",
    "    if len(file_names) == 0: # load all files if not specified\n",
    "        file_names = filter(\n",
    "            lambda f: f.split('.')[-1] == 'csv',\n",
    "            os.listdir(settings.DATA_DIR))\n",
    "\n",
    "    data = {}\n",
    "    for file_name in file_names:\n",
    "        file_path = os.path.join(settings.DATA_DIR, file_name)\n",
    "        data_name = format_file_name(file_name)\n",
    "        data[data_name] = pd.read_csv(file_path)\n",
    "\n",
    "    return data"
   ]
  },
  {
   "cell_type": "code",
   "execution_count": 44,
   "metadata": {},
   "outputs": [],
   "source": [
    "def get_assessment_by_year(years=[]):\n",
    "    r\"\"\"\n",
    "    :param years (list): year codes\n",
    "    :return: a list of assessment ids that are in these years\n",
    "    \"\"\"\n",
    "\n",
    "    # assessments table records which year an assessment is given\n",
    "    assessments = get_raw_data(['assessments.csv'])['assessments']\n",
    "    mask = assessments['code_presentation'].isin(years)\n",
    "\n",
    "    res = list(assessments[mask]['id_assessment'].unique())\n",
    "    \n",
    "    return res"
   ]
  },
  {
   "cell_type": "code",
   "execution_count": 53,
   "metadata": {},
   "outputs": [],
   "source": [
    "def train_test_split(df, train_ratio=None, train_size=None, train_years=['2013B', '2013J', '2014B']):\n",
    "    r\"\"\"\n",
    "        train test split, one of the train_ratio/train_size/train_years must be not None.\n",
    "\n",
    "    :param df (pd.DataFrame): dataframe to be splited\n",
    "    :param train_ratio: train ratio\n",
    "    :param train_size: train size\n",
    "    :param train_years: years of data to be included in the training set\n",
    "    :return: train, test data frame\n",
    "\n",
    "        Note: only train_years are implemented\n",
    "    \"\"\"\n",
    "\n",
    "    if train_ratio is not None:\n",
    "        raise NotImplementedError\n",
    "    if train_size is not None:\n",
    "        raise NotImplementedError\n",
    "    if train_years is None:\n",
    "        raise Exception('the training years cannot be missing')\n",
    "\n",
    "    if 'code_presentation' in df:  # the tables call year as 'code_presentation'\n",
    "        col = 'code_presentation'\n",
    "        val = train_years\n",
    "    else:\n",
    "        col = 'id_assessment'\n",
    "        val = get_assessment_by_year(train_years)\n",
    "        \n",
    "    train_mask = df[col].isin(val)\n",
    "    train_df = df[train_mask].copy()\n",
    "    test_df = df[~ train_mask].copy()\n",
    "    \n",
    "    return train_df, test_df"
   ]
  },
  {
   "cell_type": "code",
   "execution_count": 54,
   "metadata": {},
   "outputs": [
    {
     "data": {
      "text/plain": [
       "dict_keys(['student_assessment', 'student_info', 'student_vle', 'courses', 'vle', 'student_registration', 'assessments'])"
      ]
     },
     "execution_count": 54,
     "metadata": {},
     "output_type": "execute_result"
    }
   ],
   "source": [
    "data.keys()"
   ]
  },
  {
   "cell_type": "code",
   "execution_count": 55,
   "metadata": {},
   "outputs": [],
   "source": [
    "train, test = train_test_split(data['student_assessment'])"
   ]
  },
  {
   "cell_type": "code",
   "execution_count": 59,
   "metadata": {},
   "outputs": [
    {
     "data": {
      "text/plain": [
       "(121738, 5)"
      ]
     },
     "execution_count": 59,
     "metadata": {},
     "output_type": "execute_result"
    }
   ],
   "source": [
    "train.shape"
   ]
  },
  {
   "cell_type": "code",
   "execution_count": 60,
   "metadata": {},
   "outputs": [
    {
     "data": {
      "text/plain": [
       "(52174, 5)"
      ]
     },
     "execution_count": 60,
     "metadata": {},
     "output_type": "execute_result"
    }
   ],
   "source": [
    "test.shape"
   ]
  },
  {
   "cell_type": "code",
   "execution_count": null,
   "metadata": {},
   "outputs": [],
   "source": []
  }
 ],
 "metadata": {
  "kernelspec": {
   "display_name": "py3",
   "language": "python",
   "name": "py3"
  },
  "language_info": {
   "codemirror_mode": {
    "name": "ipython",
    "version": 3
   },
   "file_extension": ".py",
   "mimetype": "text/x-python",
   "name": "python",
   "nbconvert_exporter": "python",
   "pygments_lexer": "ipython3",
   "version": "3.7.3"
  }
 },
 "nbformat": 4,
 "nbformat_minor": 2
}
